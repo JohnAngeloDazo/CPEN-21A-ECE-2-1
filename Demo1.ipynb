{
  "nbformat": 4,
  "nbformat_minor": 0,
  "metadata": {
    "colab": {
      "name": "Demo1.ipynb",
      "provenance": [],
      "authorship_tag": "ABX9TyMyV0W0SgH8wdHRt7Xo1pK5",
      "include_colab_link": true
    },
    "kernelspec": {
      "name": "python3",
      "display_name": "Python 3"
    },
    "language_info": {
      "name": "python"
    }
  },
  "cells": [
    {
      "cell_type": "markdown",
      "metadata": {
        "id": "view-in-github",
        "colab_type": "text"
      },
      "source": [
        "<a href=\"https://colab.research.google.com/github/JohnAngeloDazo/CPEN-21A-ECE-2-1/blob/main/Demo1.ipynb\" target=\"_parent\"><img src=\"https://colab.research.google.com/assets/colab-badge.svg\" alt=\"Open In Colab\"/></a>"
      ]
    },
    {
      "cell_type": "markdown",
      "metadata": {
        "id": "LyHc5h_2zSMh"
      },
      "source": [
        "#Intro to Python Programming"
      ]
    },
    {
      "cell_type": "code",
      "metadata": {
        "colab": {
          "base_uri": "https://localhost:8080/"
        },
        "id": "sF98j8SgsEnI",
        "outputId": "cc741696-e0aa-4a31-d4ee-c62dc78add80"
      },
      "source": [
        "#Phyton Indention\n",
        "if 5>2:\n",
        "  print(\"Five is greater than two\")"
      ],
      "execution_count": null,
      "outputs": [
        {
          "output_type": "stream",
          "name": "stdout",
          "text": [
            "Five is greater than two\n"
          ]
        }
      ]
    },
    {
      "cell_type": "markdown",
      "metadata": {
        "id": "ZlVXWiH_xNin"
      },
      "source": [
        "#Python Variable"
      ]
    },
    {
      "cell_type": "code",
      "metadata": {
        "colab": {
          "base_uri": "https://localhost:8080/"
        },
        "id": "5IHq5tD-t3ai",
        "outputId": "b15f2e5a-1620-48bd-981b-4f26212191e0"
      },
      "source": [
        "x=1\n",
        "a, b = 0, 1\n",
        "a,b,c= \"zero\",\"one\",\"two\"\n",
        "print(x)\n",
        "print(a)\n",
        "print(b)\n",
        "print(c)"
      ],
      "execution_count": null,
      "outputs": [
        {
          "output_type": "stream",
          "name": "stdout",
          "text": [
            "1\n",
            "zero\n",
            "one\n",
            "two\n"
          ]
        }
      ]
    },
    {
      "cell_type": "code",
      "metadata": {
        "colab": {
          "base_uri": "https://localhost:8080/"
        },
        "id": "lNTLvj4SuWZa",
        "outputId": "34d7135d-41f4-4622-8e4b-9c3dbe759186"
      },
      "source": [
        "d = \"Sally\" #This is a string\n",
        "D = \"Ana\"\n",
        "print(d)\n",
        "e = 'John'\n",
        "print(e)\n",
        "print(D)"
      ],
      "execution_count": null,
      "outputs": [
        {
          "output_type": "stream",
          "name": "stdout",
          "text": [
            "Sally\n",
            "John\n",
            "Ana\n"
          ]
        }
      ]
    },
    {
      "cell_type": "code",
      "metadata": {
        "colab": {
          "base_uri": "https://localhost:8080/"
        },
        "id": "_3UZRHIt7KCn",
        "outputId": "eee993eb-6df4-4405-98f3-eb285023bf3e"
      },
      "source": [
        "print(type(d))\n",
        "print(type(x))"
      ],
      "execution_count": null,
      "outputs": [
        {
          "output_type": "stream",
          "name": "stdout",
          "text": [
            "<class 'str'>\n",
            "<class 'int'>\n"
          ]
        }
      ]
    },
    {
      "cell_type": "markdown",
      "metadata": {
        "id": "uVy5TVsauyxf"
      },
      "source": [
        "#Casting"
      ]
    },
    {
      "cell_type": "code",
      "metadata": {
        "colab": {
          "base_uri": "https://localhost:8080/"
        },
        "id": "pKMh5roEuzaw",
        "outputId": "0c8d91bb-0388-4bcc-c143-1c471d36a40a"
      },
      "source": [
        "f = float(4)\n",
        "print(f)\n",
        "g = int(5)\n",
        "print(g)"
      ],
      "execution_count": null,
      "outputs": [
        {
          "output_type": "stream",
          "name": "stdout",
          "text": [
            "4.0\n",
            "5\n"
          ]
        }
      ]
    },
    {
      "cell_type": "markdown",
      "metadata": {
        "id": "GeB8Shq3wQr3"
      },
      "source": [
        "#Multiple Variables with One Value"
      ]
    },
    {
      "cell_type": "code",
      "metadata": {
        "colab": {
          "base_uri": "https://localhost:8080/"
        },
        "id": "VvQyUa8gwUoH",
        "outputId": "06be59a8-cf6b-4174-ac2d-c4f792a6ac57"
      },
      "source": [
        "x = y = z = \"four\"\n",
        "print(x)\n",
        "print(y)\n",
        "print(z)"
      ],
      "execution_count": null,
      "outputs": [
        {
          "output_type": "stream",
          "name": "stdout",
          "text": [
            "four\n",
            "four\n",
            "four\n"
          ]
        }
      ]
    },
    {
      "cell_type": "code",
      "metadata": {
        "colab": {
          "base_uri": "https://localhost:8080/"
        },
        "id": "7IC5Dl7Xwqew",
        "outputId": "dd92042a-81d8-4e9f-8e66-29a4c2eba639"
      },
      "source": [
        "x = \"enjoying\"\n",
        "print(\"Phyton Programming is\" \" \" + x)"
      ],
      "execution_count": null,
      "outputs": [
        {
          "output_type": "stream",
          "name": "stdout",
          "text": [
            "Phyton Programming is enjoying\n"
          ]
        }
      ]
    },
    {
      "cell_type": "markdown",
      "metadata": {
        "id": "gkVBVee5xbhb"
      },
      "source": [
        "# Operations in Python"
      ]
    },
    {
      "cell_type": "code",
      "metadata": {
        "colab": {
          "base_uri": "https://localhost:8080/"
        },
        "id": "f0IjLkoSxeSq",
        "outputId": "0b054a5f-5c4b-43b6-bf5f-63e94be58602"
      },
      "source": [
        "x = 5\n",
        "y = 7\n",
        "x += y #This is the same as x = x + y\n",
        "print(x+y)\n",
        "print(x*y)\n",
        "print(x)\n"
      ],
      "execution_count": 29,
      "outputs": [
        {
          "output_type": "stream",
          "name": "stdout",
          "text": [
            "19\n",
            "84\n",
            "12\n"
          ]
        }
      ]
    },
    {
      "cell_type": "code",
      "metadata": {
        "colab": {
          "base_uri": "https://localhost:8080/"
        },
        "id": "VdXfPAZfzZRX",
        "outputId": "82b97029-db62-4676-f3bd-25c63391bf65"
      },
      "source": [
        "x = 5\n",
        "y = 7\n",
        "\n",
        "not(x>y or y==x)"
      ],
      "execution_count": 30,
      "outputs": [
        {
          "output_type": "execute_result",
          "data": {
            "text/plain": [
              "True"
            ]
          },
          "metadata": {},
          "execution_count": 30
        }
      ]
    },
    {
      "cell_type": "code",
      "metadata": {
        "colab": {
          "base_uri": "https://localhost:8080/"
        },
        "id": "r-DqX1Nv0NGB",
        "outputId": "3a068d69-348f-4a7b-e45c-645e9cee2925"
      },
      "source": [
        "x is y"
      ],
      "execution_count": 31,
      "outputs": [
        {
          "output_type": "execute_result",
          "data": {
            "text/plain": [
              "False"
            ]
          },
          "metadata": {},
          "execution_count": 31
        }
      ]
    },
    {
      "cell_type": "code",
      "metadata": {
        "colab": {
          "base_uri": "https://localhost:8080/"
        },
        "id": "ilOKwH1g0QPn",
        "outputId": "ea9c2c6f-91d2-4727-a49d-491342cd5a31"
      },
      "source": [
        "x is not y"
      ],
      "execution_count": 32,
      "outputs": [
        {
          "output_type": "execute_result",
          "data": {
            "text/plain": [
              "True"
            ]
          },
          "metadata": {},
          "execution_count": 32
        }
      ]
    }
  ]
}