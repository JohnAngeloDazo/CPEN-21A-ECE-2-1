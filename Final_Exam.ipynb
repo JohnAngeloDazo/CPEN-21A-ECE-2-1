{
  "nbformat": 4,
  "nbformat_minor": 0,
  "metadata": {
    "colab": {
      "name": "Final Exam.ipynb",
      "provenance": [],
      "authorship_tag": "ABX9TyOVAvvPsiQtQ694nB9ynqx4",
      "include_colab_link": true
    },
    "kernelspec": {
      "name": "python3",
      "display_name": "Python 3"
    },
    "language_info": {
      "name": "python"
    }
  },
  "cells": [
    {
      "cell_type": "markdown",
      "metadata": {
        "id": "view-in-github",
        "colab_type": "text"
      },
      "source": [
        "<a href=\"https://colab.research.google.com/github/JohnAngeloDazo/CPEN-21A-ECE-2-1/blob/main/Final_Exam.ipynb\" target=\"_parent\"><img src=\"https://colab.research.google.com/assets/colab-badge.svg\" alt=\"Open In Colab\"/></a>"
      ]
    },
    {
      "cell_type": "markdown",
      "source": [
        "#Final Exam"
      ],
      "metadata": {
        "id": "S6FtVa9-SRpa"
      }
    },
    {
      "cell_type": "markdown",
      "source": [
        "##Problem Statement 1"
      ],
      "metadata": {
        "id": "FnnRLVM7SVih"
      }
    },
    {
      "cell_type": "code",
      "execution_count": 8,
      "metadata": {
        "colab": {
          "base_uri": "https://localhost:8080/"
        },
        "id": "pJ8A7Z-qR_xv",
        "outputId": "a2b28e64-2c3c-4724-dbdb-2be5455b981d"
      },
      "outputs": [
        {
          "output_type": "stream",
          "name": "stdout",
          "text": [
            "Enter Number:3\n",
            "Enter Number:6\n",
            "Enter Number:2\n",
            "Enter Number:8\n",
            "Enter Number:2\n",
            "Enter Number:8\n",
            "Enter Number:2\n",
            "Enter Number:1\n",
            "Enter Number:3\n",
            "Enter Number:6\n",
            "[3, 6, 2, 8, 2, 8, 2, 1, 3, 6]\n",
            "Sum of numbers less than 5: 13\n"
          ]
        }
      ],
      "source": [
        "data=[]\n",
        "i=0\n",
        "for i in range(1,11):\n",
        "  temp=int(input(\"Enter Number:\"))\n",
        "  data.append(temp)\n",
        "  i=i+1\n",
        "i=0\n",
        "sum=0\n",
        "print(data)\n",
        "for i in data:\n",
        "  if i<5:\n",
        "    sum=sum+i\n",
        "print(\"Sum of numbers less than 5:\", sum)"
      ]
    },
    {
      "cell_type": "markdown",
      "source": [
        "##Problem Statement 2"
      ],
      "metadata": {
        "id": "LBqUYV7MScBp"
      }
    },
    {
      "cell_type": "code",
      "source": [
        "num=1;\n",
        "data={};\n",
        "while(num <=5):\n",
        "  i = str(num);\n",
        "  data[num] = input(\"Enter Number:\")\n",
        "  print(\"Value for Number \"+ i +\" is \"+ data[num])\n",
        "  num+=1\n",
        "  if(num==6):\n",
        "    sum=int(data[1])+int(data[5])\n",
        "print(\"The sum of the first and last number is:\" + str(sum))"
      ],
      "metadata": {
        "colab": {
          "base_uri": "https://localhost:8080/"
        },
        "id": "Bjsgg6c8Sdqy",
        "outputId": "83ae7113-9911-4033-f032-41e49e542ccc"
      },
      "execution_count": 2,
      "outputs": [
        {
          "output_type": "stream",
          "name": "stdout",
          "text": [
            "Enter Number:3\n",
            "Value for Number 1 is 3\n",
            "Enter Number:6\n",
            "Value for Number 2 is 6\n",
            "Enter Number:2\n",
            "Value for Number 3 is 2\n",
            "Enter Number:1\n",
            "Value for Number 4 is 1\n",
            "Enter Number:6\n",
            "Value for Number 5 is 6\n",
            "The sum of the first and last number is:9\n"
          ]
        }
      ]
    },
    {
      "cell_type": "markdown",
      "source": [
        "Problem Statement 3"
      ],
      "metadata": {
        "id": "MB9MCSlwSfLa"
      }
    },
    {
      "cell_type": "code",
      "source": [
        "grade=float(input(\"Enter your grade:\"))\n",
        "if grade >=90: print(\"A\")\n",
        "else:\n",
        "  if grade >=80: print(\"B\")\n",
        "  elif grade >=70: print(\"C\")\n",
        "  elif grade >=60: print(\"D\")\n",
        "  else: print(\"F\")"
      ],
      "metadata": {
        "colab": {
          "base_uri": "https://localhost:8080/"
        },
        "id": "tqiS9CZ7Sg2p",
        "outputId": "64b6a2b3-936e-4eb5-db10-fbe101e4708b"
      },
      "execution_count": 7,
      "outputs": [
        {
          "output_type": "stream",
          "name": "stdout",
          "text": [
            "Enter your grade:75\n",
            "C\n"
          ]
        }
      ]
    }
  ]
}