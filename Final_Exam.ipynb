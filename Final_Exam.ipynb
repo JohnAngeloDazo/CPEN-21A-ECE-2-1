{
  "nbformat": 4,
  "nbformat_minor": 0,
  "metadata": {
    "colab": {
      "name": "Final Exam.ipynb",
      "provenance": [],
      "collapsed_sections": [],
      "authorship_tag": "ABX9TyNhtiN67t0z6UpPWOJs824P",
      "include_colab_link": true
    },
    "kernelspec": {
      "name": "python3",
      "display_name": "Python 3"
    },
    "language_info": {
      "name": "python"
    }
  },
  "cells": [
    {
      "cell_type": "markdown",
      "metadata": {
        "id": "view-in-github",
        "colab_type": "text"
      },
      "source": [
        "<a href=\"https://colab.research.google.com/github/JohnAngeloDazo/CPEN-21A-ECE-2-1/blob/main/Final_Exam.ipynb\" target=\"_parent\"><img src=\"https://colab.research.google.com/assets/colab-badge.svg\" alt=\"Open In Colab\"/></a>"
      ]
    },
    {
      "cell_type": "markdown",
      "source": [
        "#Final Exam"
      ],
      "metadata": {
        "id": "S6FtVa9-SRpa"
      }
    },
    {
      "cell_type": "markdown",
      "source": [
        "##Problem Statement 1"
      ],
      "metadata": {
        "id": "FnnRLVM7SVih"
      }
    },
    {
      "cell_type": "code",
      "execution_count": 11,
      "metadata": {
        "colab": {
          "base_uri": "https://localhost:8080/"
        },
        "id": "pJ8A7Z-qR_xv",
        "outputId": "d31fc5cc-a451-45f5-e497-86a8ae435293"
      },
      "outputs": [
        {
          "output_type": "stream",
          "name": "stdout",
          "text": [
            "Input a Number: 3\n",
            "\n",
            "Input a Number: 6\n",
            "Please input a number less than 5.\n",
            "Input a Number: 2\n",
            "\n",
            "Input a Number: 1\n",
            "\n",
            "Input a Number: 4\n",
            "\n",
            "Input a Number: 2\n",
            "\n",
            "Input a Number: 7\n",
            "Please input a number less than 5.\n",
            "Input a Number: 2\n",
            "\n",
            "Input a Number: 3\n",
            "\n",
            "Input a Number: 1\n",
            "\n",
            "Input a Number: 3\n",
            "\n",
            "Input a Number: 2\n",
            "\n",
            "The values are [3, 2, 1, 4, 2, 2, 3, 1, 3, 2]\n",
            "Sum of numbers less than 5: 23\n"
          ]
        }
      ],
      "source": [
        "data=[]\n",
        "i=0\n",
        "for i in range(1,11):\n",
        "  while True:\n",
        "    a=int(input(\"Input a Number: \"))\n",
        "    if a<5:\n",
        "      print(\"\")\n",
        "      break\n",
        "    else:\n",
        "        print(\"Please i6nput a number less than 5.\")\n",
        "    continue\n",
        "  data.append(a)\n",
        "  i+=1\n",
        "\n",
        "i=0\n",
        "sum=0\n",
        "print(\"The values are\", data)\n",
        "for i in data:\n",
        "  if i<5:\n",
        "    sum=sum+i\n",
        "print(\"Sum of numbers less than 5:\", sum)\n",
        "  "
      ]
    },
    {
      "cell_type": "markdown",
      "source": [
        "##Problem Statement 2"
      ],
      "metadata": {
        "id": "LBqUYV7MScBp"
      }
    },
    {
      "cell_type": "code",
      "source": [
        "num=1;\n",
        "data={};\n",
        "while(num <=5):\n",
        "  i = str(num);\n",
        "  data[num] = input(\"Enter Number:\")\n",
        "  print(\"Value for Number \"+ i +\" is \"+ data[num])\n",
        "  num+=1\n",
        "  if(num==6):\n",
        "    sum=int(data[1])+int(data[5])\n",
        "print(\"The sum of the first and last number is:\" + str(sum))"
      ],
      "metadata": {
        "colab": {
          "base_uri": "https://localhost:8080/"
        },
        "id": "Bjsgg6c8Sdqy",
        "outputId": "b188adf1-d265-43b7-951e-1b6189cece41"
      },
      "execution_count": null,
      "outputs": [
        {
          "output_type": "stream",
          "name": "stdout",
          "text": [
            "Enter Number:4\n",
            "Value for Number 1 is 4\n",
            "Enter Number:2\n",
            "Value for Number 2 is 2\n",
            "Enter Number:1\n",
            "Value for Number 3 is 1\n",
            "Enter Number:6\n",
            "Value for Number 4 is 6\n",
            "Enter Number:2\n",
            "Value for Number 5 is 2\n",
            "The sum of the first and last number is:6\n"
          ]
        }
      ]
    },
    {
      "cell_type": "markdown",
      "source": [
        "##Problem Statement 3"
      ],
      "metadata": {
        "id": "MB9MCSlwSfLa"
      }
    },
    {
      "cell_type": "code",
      "source": [
        "grade=float(input(\"Enter your grade:\"))\n",
        "if grade >=90: print(\"A\")\n",
        "else:\n",
        "  if grade >=80: print(\"B\")\n",
        "  elif grade >=70: print(\"C\")\n",
        "  elif grade >=60: print(\"D\")\n",
        "  else: print(\"F\")"
      ],
      "metadata": {
        "colab": {
          "base_uri": "https://localhost:8080/"
        },
        "id": "tqiS9CZ7Sg2p",
        "outputId": "30557a3c-da05-4bba-e4be-9ca679b92764"
      },
      "execution_count": null,
      "outputs": [
        {
          "output_type": "stream",
          "name": "stdout",
          "text": [
            "Enter your grade:86\n",
            "B\n"
          ]
        }
      ]
    }
  ]
}