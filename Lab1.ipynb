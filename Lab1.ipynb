{
  "nbformat": 4,
  "nbformat_minor": 0,
  "metadata": {
    "colab": {
      "name": "Lab1.ipynb",
      "provenance": [],
      "authorship_tag": "ABX9TyOo8yWbwhGbbJEgJ+tqUxMg",
      "include_colab_link": true
    },
    "kernelspec": {
      "name": "python3",
      "display_name": "Python 3"
    },
    "language_info": {
      "name": "python"
    }
  },
  "cells": [
    {
      "cell_type": "markdown",
      "metadata": {
        "id": "view-in-github",
        "colab_type": "text"
      },
      "source": [
        "<a href=\"https://colab.research.google.com/github/JohnAngeloDazo/CPEN-21A-ECE-2-1/blob/main/Lab1.ipynb\" target=\"_parent\"><img src=\"https://colab.research.google.com/assets/colab-badge.svg\" alt=\"Open In Colab\"/></a>"
      ]
    },
    {
      "cell_type": "markdown",
      "metadata": {
        "id": "5G3cKFb9vfbT"
      },
      "source": [
        "#Laboratory 1"
      ]
    },
    {
      "cell_type": "code",
      "metadata": {
        "id": "ibiJU_Tev7TA"
      },
      "source": [
        "z=\"Welcome to Python Programming\"\n",
        "x=\"John Angelo A. Dazo\"\n",
        "c=\"Blk 9 Lot 8 Persan Village, Sanja Mayor, Tanza, Cavite\"\n",
        "v=\"19\""
      ],
      "execution_count": 9,
      "outputs": []
    },
    {
      "cell_type": "code",
      "metadata": {
        "colab": {
          "base_uri": "https://localhost:8080/"
        },
        "id": "Y9cGvEBLz2ZR",
        "outputId": "44180070-9c4f-431e-f5f1-20467bfaf01b"
      },
      "source": [
        "print(z)"
      ],
      "execution_count": 10,
      "outputs": [
        {
          "output_type": "stream",
          "name": "stdout",
          "text": [
            "Welcome to Python Programming\n"
          ]
        }
      ]
    },
    {
      "cell_type": "code",
      "metadata": {
        "colab": {
          "base_uri": "https://localhost:8080/"
        },
        "id": "hpjLwn9Ev89w",
        "outputId": "d77c62fa-2e36-4c85-d4c1-9bfa6de66318"
      },
      "source": [
        "print(\"Name:\"+x)\n",
        "print(\"Address:\"+c)\n",
        "print(\"Age:\"+v)"
      ],
      "execution_count": 11,
      "outputs": [
        {
          "output_type": "stream",
          "name": "stdout",
          "text": [
            "Name:John Angelo A. Dazo\n",
            "Address:Blk 9 Lot 8 Persan Village, Sanja Mayor, Tanza, Cavite\n",
            "Age:19\n"
          ]
        }
      ]
    }
  ]
}