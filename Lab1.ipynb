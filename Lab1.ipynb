{
  "nbformat": 4,
  "nbformat_minor": 0,
  "metadata": {
    "colab": {
      "name": "Lab1.ipynb",
      "provenance": [],
      "authorship_tag": "ABX9TyNExcTaOPU91ICX3kR7IX4f",
      "include_colab_link": true
    },
    "kernelspec": {
      "name": "python3",
      "display_name": "Python 3"
    },
    "language_info": {
      "name": "python"
    }
  },
  "cells": [
    {
      "cell_type": "markdown",
      "metadata": {
        "id": "view-in-github",
        "colab_type": "text"
      },
      "source": [
        "<a href=\"https://colab.research.google.com/github/JohnAngeloDazo/CPEN-21A-ECE-2-1/blob/main/Lab1.ipynb\" target=\"_parent\"><img src=\"https://colab.research.google.com/assets/colab-badge.svg\" alt=\"Open In Colab\"/></a>"
      ]
    },
    {
      "cell_type": "markdown",
      "metadata": {
        "id": "dSPmBAY9rMP1"
      },
      "source": [
        "#Laboratory 1"
      ]
    },
    {
      "cell_type": "code",
      "metadata": {
        "colab": {
          "base_uri": "https://localhost:8080/"
        },
        "id": "9UhLfjj5rtBa",
        "outputId": "50444461-c659-479f-a6fe-8cf7d3289f60"
      },
      "source": [
        "print(\"Welcome to Python Programming\")"
      ],
      "execution_count": 2,
      "outputs": [
        {
          "output_type": "stream",
          "name": "stdout",
          "text": [
            "Welcome to Python Programming\n"
          ]
        }
      ]
    },
    {
      "cell_type": "code",
      "metadata": {
        "colab": {
          "base_uri": "https://localhost:8080/"
        },
        "id": "KIq6k35eq-tE",
        "outputId": "00b43e8b-2d2d-4140-c4c4-4ae952c763f6"
      },
      "source": [
        "print(\"Name: John Angelo A. Dazo\")\n",
        "print(\"Address: Blk 9 Lot 8 Persan Village, Sanja Mayor, Tanza, Cavite\")\n",
        "print(\"Age: 19\")"
      ],
      "execution_count": 3,
      "outputs": [
        {
          "output_type": "stream",
          "name": "stdout",
          "text": [
            "Name: John Angelo A. Dazo\n",
            "Address: Persan Village, Sanja Mayor, Tanza, Cavite\n",
            "Age: 19\n"
          ]
        }
      ]
    }
  ]
}