{
  "nbformat": 4,
  "nbformat_minor": 0,
  "metadata": {
    "colab": {
      "name": "Midterm Exam.ipynb",
      "provenance": [],
      "authorship_tag": "ABX9TyPBBTr1XVXROfbwKuYCkTWM",
      "include_colab_link": true
    },
    "kernelspec": {
      "name": "python3",
      "display_name": "Python 3"
    },
    "language_info": {
      "name": "python"
    }
  },
  "cells": [
    {
      "cell_type": "markdown",
      "metadata": {
        "id": "view-in-github",
        "colab_type": "text"
      },
      "source": [
        "<a href=\"https://colab.research.google.com/github/JohnAngeloDazo/CPEN-21A-ECE-2-1/blob/main/Midterm_Exam.ipynb\" target=\"_parent\"><img src=\"https://colab.research.google.com/assets/colab-badge.svg\" alt=\"Open In Colab\"/></a>"
      ]
    },
    {
      "cell_type": "markdown",
      "metadata": {
        "id": "i3Gq51wZ4mXD"
      },
      "source": [
        "#Midterm Exam"
      ]
    },
    {
      "cell_type": "markdown",
      "metadata": {
        "id": "a7m7UsH12hVb"
      },
      "source": [
        "##PROBLEMSTATEMENT 1"
      ]
    },
    {
      "cell_type": "code",
      "metadata": {
        "colab": {
          "base_uri": "https://localhost:8080/"
        },
        "id": "q9d2nRex2lt8",
        "outputId": "4b70189b-be4c-4eab-f38e-163bb2550f4b"
      },
      "source": [
        "a=\"John Angelo A. Dazo\"\n",
        "b=\"202012935\"\n",
        "c=\"19 years old\"\n",
        "d=\"June 09, 2002\"\n",
        "e=\"Blk 9 Lot 8 Persan Village, Sanja Mayor, Tanza, Cavite\"\n",
        "f=\"Programming Logic and Design\"\n",
        "g=\"1.33\"\n",
        "\n",
        "print(\"Full Name: \"+a)\n",
        "print(\"Student Number: \"+b)\n",
        "print(\"Age: \"+c)\n",
        "print(\"Birthday: \"+d)\n",
        "print(\"Address: \"+e)\n",
        "print(\"Course: \"+f)\n",
        "print(\"Last Sem GWA: \"+g)"
      ],
      "execution_count": 74,
      "outputs": [
        {
          "output_type": "stream",
          "name": "stdout",
          "text": [
            "Full Name: John Angelo A. Dazo\n",
            "Student Number: 202012935\n",
            "Age: 19 years old\n",
            "Birthday: June 09, 2002\n",
            "Address: Blk 9 Lot 8 Persan Village, Sanja Mayor, Tanza, Cavite\n",
            "Course: Programming Logic and Design\n",
            "Last Sem GWA: 1.33\n"
          ]
        }
      ]
    },
    {
      "cell_type": "markdown",
      "metadata": {
        "id": "4md4X_1n4vtZ"
      },
      "source": [
        "##PROBLEMSTATEMENT 2"
      ]
    },
    {
      "cell_type": "code",
      "metadata": {
        "colab": {
          "base_uri": "https://localhost:8080/"
        },
        "id": "HSxcneRn4zG5",
        "outputId": "715e1bd0-d3de-4343-d3a6-2bd106e7bb9f"
      },
      "source": [
        "n=4 \n",
        "answ=\"Y\"\n",
        "\n",
        "print(bool(2<n)and(n<6)) #a\n",
        "print(bool(2<n)or(n==6)) #b\n",
        "print(bool(not(2<n)or(n==6)))#c\n",
        "print(bool(not(n<6))) #d\n",
        "print(bool(answ==\"Y\")or(answ==\"y\")) #e\n",
        "print(bool(answ==\"Y\")and(answ==\"y\")) #f\n",
        "print(bool(not(answ==\"y\"))) #g\n",
        "print(bool((2<n)and(n==5+1))or(answ==\"No\")) #h\n",
        "print(bool((n==2)and(n==7))or(answ==\"Y\")) #i\n",
        "print(bool(n==2)and((n==7)or(answ==\"Y\"))) #j"
      ],
      "execution_count": 75,
      "outputs": [
        {
          "output_type": "stream",
          "name": "stdout",
          "text": [
            "True\n",
            "True\n",
            "False\n",
            "False\n",
            "True\n",
            "False\n",
            "True\n",
            "False\n",
            "True\n",
            "False\n"
          ]
        }
      ]
    },
    {
      "cell_type": "markdown",
      "metadata": {
        "id": "ZNn3JF0q-c7g"
      },
      "source": [
        "##PROBLEMSTATEMENT 3"
      ]
    },
    {
      "cell_type": "code",
      "metadata": {
        "colab": {
          "base_uri": "https://localhost:8080/"
        },
        "id": "7_rSYovF-gbI",
        "outputId": "9e5149e2-7a5e-433e-ea7f-3f11c27fbcda"
      },
      "source": [
        "x=2\n",
        "y=-3\n",
        "w=7\n",
        "z=-10\n",
        "\n",
        "print(x/y) #a\n",
        "print(w/y/x) #b\n",
        "print(z/y%x) #c\n",
        "print(x%-y*w) #d\n",
        "print(x%y) #e\n",
        "print(z%w-y/x*5+5) #f\n",
        "print(9-x%(2+y)) #g\n",
        "print(z//w) #h\n",
        "print((2+y)**2) #i\n",
        "print(w/x*2) #j"
      ],
      "execution_count": 76,
      "outputs": [
        {
          "output_type": "stream",
          "name": "stdout",
          "text": [
            "-0.6666666666666666\n",
            "-1.1666666666666667\n",
            "1.3333333333333335\n",
            "14\n",
            "-1\n",
            "16.5\n",
            "9\n",
            "-2\n",
            "1\n",
            "7.0\n"
          ]
        }
      ]
    }
  ]
}